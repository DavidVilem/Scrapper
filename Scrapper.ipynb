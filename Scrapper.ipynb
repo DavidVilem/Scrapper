{
 "cells": [
  {
   "cell_type": "markdown",
   "metadata": {},
   "source": [
    "## Instalacion Librerias"
   ]
  },
  {
   "cell_type": "code",
   "execution_count": null,
   "metadata": {
    "application/vnd.databricks.v1+cell": {
     "cellMetadata": {
      "byteLimit": 2048000,
      "rowLimit": 10000
     },
     "inputWidgets": {},
     "nuid": "b15a78a2-2bb3-4629-8706-9c495f1b9bfc",
     "showTitle": false,
     "title": ""
    }
   },
   "outputs": [],
   "source": [
    "pip install requests"
   ]
  },
  {
   "cell_type": "code",
   "execution_count": null,
   "metadata": {},
   "outputs": [],
   "source": [
    "pip install beautifulsoup4"
   ]
  },
  {
   "cell_type": "code",
   "execution_count": null,
   "metadata": {},
   "outputs": [],
   "source": [
    "pip install pandas "
   ]
  },
  {
   "cell_type": "code",
   "execution_count": null,
   "metadata": {},
   "outputs": [],
   "source": [
    "pip install logging"
   ]
  },
  {
   "cell_type": "markdown",
   "metadata": {},
   "source": [
    "## Importar Librerias"
   ]
  },
  {
   "cell_type": "code",
   "execution_count": 20,
   "metadata": {},
   "outputs": [],
   "source": [
    "import requests\n",
    "import logging\n",
    "from bs4 import BeautifulSoup\n",
    "import pandas as pd"
   ]
  },
  {
   "cell_type": "markdown",
   "metadata": {},
   "source": [
    "## Objetivo\n",
    "\n",
    "El objetivo del proyecto consiste en verificar la información contenida en esta página web, identificando qué datos se pueden extraer. Además, buscamos determinar la frecuencia con la que esta información se actualiza, identificar los cambios específicos que se producen y mantenernos informados sobre las últimas noticias relacionadas."
   ]
  },
  {
   "cell_type": "markdown",
   "metadata": {},
   "source": [
    "<img src=\"images/01.png\" alt=\"Descripción de la foto\" width=\"800\" height=\"600\">\n"
   ]
  },
  {
   "cell_type": "markdown",
   "metadata": {},
   "source": [
    "Este script realiza una solicitud GET a la página web especificada para obtener su contenido HTML. Utilizando la biblioteca BeautifulSoup para parsear dicho contenido, el objetivo es identificar la estructura del HTML de la página. Este proceso permite una inspección inicial del código fuente, facilitando la identificación de los elementos específicos de la página que podrían ser de interés para extracciones de datos posteriores. El script verifica primero la respuesta del servidor para asegurar que la solicitud fue exitosa antes de proceder con el análisis del HTML."
   ]
  },
  {
   "cell_type": "code",
   "execution_count": 24,
   "metadata": {
    "application/vnd.databricks.v1+cell": {
     "cellMetadata": {
      "byteLimit": 2048000,
      "rowLimit": 10000
     },
     "inputWidgets": {},
     "nuid": "135ad885-55c6-4763-9dde-f9f6b53aaccb",
     "showTitle": false,
     "title": ""
    }
   },
   "outputs": [
    {
     "name": "stderr",
     "output_type": "stream",
     "text": [
      "INFO: Muestra del HTML:\n",
      "<!DOCTYPE html>\n",
      "<html dir=\"ltr\" lang=\"es\" prefix=\"content: http://purl.org/rss/1.0/modules/content/  dc: http://purl.org/dc/terms/  foaf: http://xmlns.com/foaf/0.1/  og: http://ogp.me/ns#  rdfs: http://www.w3.org/2000/01/rdf-schema#  schema: http://schema.org/  sioc: http://rdfs.org/sioc/ns#  sioct: http://rdfs.org/sioc/types#  skos: http://www.w3.org/2004/02/skos/core#  xsd: http://www.w3.org/2001/XMLSchema# \">\n",
      " <head>\n",
      "  <!-- Google Tag Manager -->\n",
      "  <script>\n",
      "   (function(w,d,s,l,i){w[l]=w[l]||[];w[l].push({'gtm.start':\n",
      "  new Date().getTime(),event:'gtm.js'});var f=d.getElementsByTagName(s)[0],\n",
      "  j=d.createElement(s),dl=l!='dataLayer'?'&l='+l:'';j.async=true;j.src=\n",
      "  'https://www.googletagmanager.com/gtm.js?id='+i+dl;f.parentNode.insertBefore(j,f);\n",
      "  })(window,document,'script','dataLayer','GTM-PNJFMZD');\n",
      "  </script>\n",
      "  <!-- Google Tag Manager -->\n",
      "  <script>\n",
      "   (function(w,d,s,l,i){w[l]=w[l]||[];w[l].push({'gtm.start':\n",
      "  new Date().getTime(),event:'gtm.js'});var f=d.getElementsByTagNam\n"
     ]
    }
   ],
   "source": [
    "# Configurar el nivel de log\n",
    "logging.basicConfig(level=logging.INFO, format='%(levelname)s: %(message)s')\n",
    "\n",
    "# URL de la página web\n",
    "url = \"https://www.constructorabolivar.com/proyectos-vivienda\"\n",
    "\n",
    "try:\n",
    "    # Realizar la solicitud GET\n",
    "    respuesta = requests.get(url, timeout=5)  # Esperar 5 segundos como máximo\n",
    "\n",
    "    # Verificar el estado de la solicitud\n",
    "    if respuesta.status_code == 200:\n",
    "        # Parsear el contenido HTML\n",
    "        soup = BeautifulSoup(respuesta.text, 'html.parser')\n",
    "        \n",
    "        # Mostrar una muestra del HTML\n",
    "        html_sample = soup.prettify()[:1000]  # Limitado a los primeros 1000 caracteres\n",
    "        logging.info(\"Muestra del HTML:\\n\" + html_sample)\n",
    "        \n",
    "    else:\n",
    "        logging.error(f\"Error en la solicitud: Estado {respuesta.status_code}\")\n",
    "except requests.RequestException as e:\n",
    "    logging.error(f\"Error al realizar la solicitud: {e}\")\n"
   ]
  },
  {
   "cell_type": "markdown",
   "metadata": {},
   "source": [
    "<div align=\"center\">\n",
    "    <img src=\"images/02.png\" alt=\"Descripción de la foto\" width=\"800\" height=\"600\">\n",
    "</div>"
   ]
  },
  {
   "cell_type": "markdown",
   "metadata": {},
   "source": [
    "Buscamos dentro de la página elementos \"strong\" que estén anidados directamente bajo elementos \"h3\", los cuales a su vez se encuentran dentro de \"div\" con la clase card-item-title. Al iterar sobre estos elementos y imprimir el texto que contienen, el script busca evidencia de contenido dinámico. La presencia de placeholders como ${item.title} en la respuesta impresa sugiere que la página podría estar cargando contenido dinámicamente mediante JavaScript, ya que estos placeholders suelen reemplazarse con datos reales en tiempo de ejecución por scripts del lado del cliente."
   ]
  },
  {
   "cell_type": "code",
   "execution_count": null,
   "metadata": {
    "application/vnd.databricks.v1+cell": {
     "cellMetadata": {
      "byteLimit": 2048000,
      "rowLimit": 10000
     },
     "inputWidgets": {},
     "nuid": "3a111c38-b57d-4701-a6b4-d2538244029d",
     "showTitle": false,
     "title": ""
    }
   },
   "outputs": [],
   "source": [
    "# URL de la página web\n",
    "url = \"https://www.constructorabolivar.com/proyectos-vivienda\"\n",
    "\n",
    "# Realizar la solicitud GET\n",
    "respuesta = requests.get(url)\n",
    "\n",
    "# Verificar el estado de la solicitud\n",
    "if respuesta.status_code == 200:\n",
    "    # Parsear el contenido HTML\n",
    "    soup = BeautifulSoup(respuesta.text, 'html.parser')\n",
    "    # Buscar todos los elementos 'strong' directamente dentro de 'h3' dentro de los contenedores 'div' con clase 'card-item-title'\n",
    "    titulos = soup.select('div.card-item-title h6 strong')\n",
    "    # Iterar sobre cada título y imprimir el texto\n",
    "    for titulo in titulos:\n",
    "        print(titulo.text.strip())\n",
    "else:\n",
    "    print(\"Error en la solicitud: Estado\", respuesta.status_code)"
   ]
  },
  {
   "cell_type": "markdown",
   "metadata": {},
   "source": [
    "De igual manera, podemos asignarle un nombre al campo que recupera, sin embargo, de esta manera no podriamos obtener el nombre real."
   ]
  },
  {
   "cell_type": "code",
   "execution_count": null,
   "metadata": {
    "application/vnd.databricks.v1+cell": {
     "cellMetadata": {
      "byteLimit": 2048000,
      "rowLimit": 10000
     },
     "inputWidgets": {},
     "nuid": "4986af36-ed5d-42e2-9a59-54cf1b2c0408",
     "showTitle": false,
     "title": ""
    }
   },
   "outputs": [],
   "source": [
    "\n",
    "# URL de la página web\n",
    "url = \"https://www.constructorabolivar.com/proyectos-vivienda\"\n",
    "\n",
    "# Realizar la solicitud GET\n",
    "respuesta = requests.get(url)\n",
    "\n",
    "# Verificar el estado de la solicitud\n",
    "if respuesta.status_code == 200:\n",
    "    # Parsear el contenido HTML\n",
    "    soup = BeautifulSoup(respuesta.text, 'html.parser')\n",
    "    # Buscar todos los elementos 'strong' directamente dentro de 'h3' dentro de los contenedores 'div' con clase 'card-item-title'\n",
    "    titulos = soup.select('div.card-item-title h3 strong')\n",
    "    # Iterar sobre cada título y imprimir el texto\n",
    "    for titulo in titulos:\n",
    "        # Aquí se imprime la cadena literal \"${item.title}\"\n",
    "        print(titulo.text.strip())\n",
    "        # Aquí se reemplaza la cadena literal \"${item.title}\" por \"Proyecto XYZ\"\n",
    "        texto_reemplazado = titulo.text.strip().replace(\"${item.title}\", \"Proyecto XYZ\")\n",
    "        print(texto_reemplazado)\n",
    "else:\n",
    "    print(\"Error en la solicitud: Estado\", respuesta.status_code)"
   ]
  },
  {
   "cell_type": "markdown",
   "metadata": {},
   "source": [
    "Al enfrentarnos a la limitación de no poder recuperar información de manera eficaz mediante métodos tradicionales de scraping HTML, debido a la naturaleza dinámica de la página objetivo, optamos por acceder directamente a una API proporcionada por el sitio web. Este enfoque nos permite obtener la información de manera estructurada y completa durante el proceso de carga de la página, aprovechando el formato JSON para facilitar el análisis y extracción de datos relevantes.\n",
    "\n",
    "El código realiza una solicitud GET a la URL específica de la API, que devuelve los datos de los proyectos en formato JSON. Tras verificar una respuesta exitosa del servidor (código de estado 200), el script parsea esta respuesta JSON para iterar sobre cada objeto de proyecto individualmente. Durante esta iteración, extrae y muestra datos clave de cada proyecto, incluyendo identificadores únicos, títulos, ciudades, precios, estados, y más, así como URLs para logos e imágenes destacadas. Además, proporciona información sobre el tipo de vivienda y la disponibilidad de subsidios, culminando con la URL para una vista detallada de cada proyecto.\n",
    "\n",
    "Este método nos permite obtener una visión detallada y actualizada de los proyectos disponibles, superando los desafíos que presenta el scraping de sitios web dinámicos y aprovechando la eficiencia y estructura que ofrecen las APIs para la recuperación de datos.\n",
    "\n",
    "La informacion de la API se obtiene de la siguiente manera, si no aparece, recargar la pagina\n",
    "\n",
    "<div align=\"center\">\n",
    "    <img src=\"images/03.png\" alt=\"Obtencion Extension xhr\" width=\"800\" height=\"600\">\n",
    "</div>\n",
    "\n",
    "Informacion del JSON correspondiente al xhr de la API\n",
    "\n",
    "<div align=\"center\">\n",
    "    <img src=\"images/04.png\" alt=\"Json Response\" width=\"800\" height=\"600\">\n",
    "</div>"
   ]
  },
  {
   "cell_type": "code",
   "execution_count": null,
   "metadata": {
    "application/vnd.databricks.v1+cell": {
     "cellMetadata": {
      "byteLimit": 2048000,
      "rowLimit": 10000
     },
     "inputWidgets": {},
     "nuid": "6cbfb10d-9399-4ed3-960c-d8028e926cd5",
     "showTitle": false,
     "title": ""
    }
   },
   "outputs": [],
   "source": [
    "# URL de la API\n",
    "url = \"https://www.constructorabolivar.com/api/proyectos2/all/all/all?_format=json\"\n",
    "\n",
    "# Realizar la solicitud GET\n",
    "respuesta = requests.get(url)\n",
    "\n",
    "# Verificar si la solicitud fue exitosa\n",
    "if respuesta.status_code == 200:\n",
    "    # Parsear la respuesta JSON\n",
    "    proyectos = respuesta.json()\n",
    "    # Iterar sobre cada proyecto e imprimir algunos campos\n",
    "    for proyecto in proyectos:\n",
    "        print(f\"ID: {proyecto['nid']}\")\n",
    "        print(f\"Título: {proyecto['title']}\")\n",
    "        print(f\"Departamento: {proyecto['field_departamento']}\")\n",
    "        print(f\"Ciudad: {proyecto['field_ciudad']}\")\n",
    "        print(f\"Precio: {proyecto['field_precio']}\")\n",
    "        print(f\"Precio SMMLV: {proyecto['field_precio_smmlv']}\")\n",
    "        print(f\"Sector: {proyecto['field_sector']}\")\n",
    "        print(f\"Barrio: {proyecto['field_barrio']}\")\n",
    "        print(f\"Estado: {proyecto['field_estados']}\")\n",
    "        print(f\"Area Minima: {proyecto['field_area_minima']}\")\n",
    "        print(f\"Area Privada Minima: {proyecto['field_area_privada_minima']}\")\n",
    "        print(f\"Alcobas: {proyecto['field_alcobas']}\")\n",
    "        print(f\"Logo URL: {proyecto['field_logo']}\")\n",
    "        print(f\"Imagen Destacada URL: {proyecto['field_imagen_destacada']}\")\n",
    "        print(f\"Tipo de Vivienda: {proyecto['field_tipo_de_vivienda']}\")\n",
    "        print(f\"URL de Vista: {proyecto['view_node']}\")\n",
    "        print(f\"Descripciones Destacadas: {proyecto.get('field_descripcion_destacada_1', '')}, {proyecto.get('field_descripcion_destacada_2', '')}, {proyecto.get('field_descripcion_destacada_3', '')}, {proyecto.get('field_descripcion_destacada_4', '')}\")\n",
    "        print(\"------------------------------------------------\")\n",
    "else:\n",
    "    print(\"Error en la solicitud: Estado\", respuesta.status_code)\n"
   ]
  },
  {
   "cell_type": "markdown",
   "metadata": {},
   "source": [
    "Para obtener una visión completa de los proyectos, es esencial acceder a los detalles específicos contenidos dentro de cada página de proyecto. Aunque ya hemos recopilado la información principal de los proyectos, nos falta explorar la información detallada que se encuentra al interior de cada uno de ellos.\n",
    "\n",
    "Por esta razón, hemos ajustado nuestro código para que ahora incluya la capacidad de extraer la URL de cada proyecto. Este paso nos permite adentrarnos en cada página individual de proyecto, donde podremos recabar datos más específicos y enriquecer nuestro conjunto de información con detalles más profundos sobre cada proyecto."
   ]
  },
  {
   "cell_type": "markdown",
   "metadata": {},
   "source": [
    "<div align=\"center\">\n",
    "    <img src=\"images/05.png\" alt=\"Obtencion Extension xhr\" width=\"800\" height=\"600\">\n",
    "</div>"
   ]
  },
  {
   "cell_type": "code",
   "execution_count": null,
   "metadata": {},
   "outputs": [],
   "source": [
    "# URL base del sitio web\n",
    "url_base = \"https://www.constructorabolivar.com\"\n",
    "\n",
    "# URL de la API\n",
    "url_api = \"https://www.constructorabolivar.com/api/proyectos2/all/all/all?_format=json\"\n",
    "\n",
    "# Realizar la solicitud GET a la API\n",
    "respuesta = requests.get(url_api)\n",
    "\n",
    "# Función para obtener la información detallada de un proyecto\n",
    "def obtener_info_proyecto(url_proyecto):\n",
    "    respuesta = requests.get(url_proyecto)\n",
    "    if respuesta.status_code == 200:\n",
    "        soup = BeautifulSoup(respuesta.text, 'html.parser')\n",
    "        # Ajusta el selector para obtener la descripción\n",
    "        elemento_descripcion = soup.find('div', class_='descripcion-clase')  # Cambiar por el selector correcto\n",
    "        if elemento_descripcion:  # Verificar si se encontró el elemento\n",
    "            descripcion = elemento_descripcion.text.strip()\n",
    "        else:\n",
    "            descripcion = \"Descripción no encontrada\"\n",
    "        return descripcion\n",
    "    else:\n",
    "        return \"No se pudo obtener la información\"\n",
    "\n",
    "if respuesta.status_code == 200:\n",
    "    proyectos = respuesta.json()\n",
    "    for proyecto in proyectos:\n",
    "        # URL completa del proyecto\n",
    "        url_proyecto_completa = url_base + proyecto['view_node']\n",
    "        print(f\"URL del Proyecto: {url_proyecto_completa}\")\n",
    "\n",
    "        # Obtener información detallada de cada proyecto\n",
    "        info_adicional = obtener_info_proyecto(url_proyecto_completa)\n",
    "        print(f\"Información adicional: {info_adicional}\")\n",
    "        print(\"------------------------------------------------\")\n",
    "else:\n",
    "    print(\"Error en la solicitud: Estado\", respuesta.status_code)"
   ]
  },
  {
   "cell_type": "markdown",
   "metadata": {},
   "source": [
    "Hemos integrado ambos procedimientos con el objetivo de capturar no solo los datos generales de los proyectos, sino también los detalles específicos accesibles a través de sus respectivas páginas web. Este enfoque nos permite extraer la URL"
   ]
  },
  {
   "cell_type": "code",
   "execution_count": null,
   "metadata": {},
   "outputs": [],
   "source": [
    "# URL base del sitio web para completar las URLs relativas\n",
    "url_base = \"https://www.constructorabolivar.com\"\n",
    "\n",
    "# Función para obtener información detallada de cada proyecto\n",
    "def obtener_info_proyecto(url_proyecto):\n",
    "    respuesta = requests.get(url_proyecto)\n",
    "    if respuesta.status_code == 200:\n",
    "        soup = BeautifulSoup(respuesta.text, 'html.parser')\n",
    "        # Aquí puedes ajustar los selectores según la estructura específica de la página de cada proyecto\n",
    "        # y la información adicional que deseas obtener. Este es un ejemplo para obtener una descripción:\n",
    "        elemento_descripcion = soup.find('div', class_='alguna-clase-para-la-descripcion')  # Ajusta este selector\n",
    "        descripcion = elemento_descripcion.text.strip() if elemento_descripcion else \"Descripción no encontrada\"\n",
    "        return descripcion\n",
    "    else:\n",
    "        return \"No se pudo obtener la información del proyecto\"\n",
    "\n",
    "# URL de la API\n",
    "url_api = \"https://www.constructorabolivar.com/api/proyectos2/all/all/all?_format=json\"\n",
    "\n",
    "# Realizar la solicitud GET a la API\n",
    "respuesta = requests.get(url_api)\n",
    "\n",
    "if respuesta.status_code == 200:\n",
    "    proyectos = respuesta.json()\n",
    "    for proyecto in proyectos:\n",
    "        # Imprimir información básica obtenida de la API\n",
    "        print(f\"ID: {proyecto['nid']}\")\n",
    "        print(f\"Título: {proyecto['title']}\")\n",
    "\n",
    "        # Completar la URL relativa del proyecto\n",
    "        url_proyecto = url_base + proyecto['view_node']\n",
    "        print(f\"URL del Proyecto: {url_proyecto}\")\n",
    "        info_adicional = obtener_info_proyecto(url_proyecto)\n",
    "        print(f\"Información adicional: {info_adicional}\")\n",
    "        print(\"------------------------------------------------\")\n",
    "else:\n",
    "    print(\"Error en la solicitud: Estado\", respuesta.status_code)"
   ]
  },
  {
   "cell_type": "markdown",
   "metadata": {},
   "source": [
    "En este código, se realiza una integración avanzada de solicitudes HTTP y análisis HTML para extraer y compilar una amplia gama de información sobre proyectos de construcción disponibles a través de la API pública y las páginas web individuales de cada proyecto. La estrategia implementada consiste en dos fases principales:\n",
    "\n",
    "**Recopilación de Datos Generales de la API:** Inicialmente, se efectúa una solicitud GET a la API proporcionada por el sitio web constructorabolivar.com, donde se recoge información general de cada proyecto. Esta información incluye, pero no se limita a, identificadores únicos, títulos, ubicaciones, precios, y enlaces directos a las páginas específicas de cada proyecto.\n",
    "\n",
    "**Extracción de Detalles Específicos de las Páginas de Proyectos:** Utilizando las URLs específicas de cada proyecto, el código procede a realizar solicitudes individuales para acceder a las páginas correspondientes. A través de técnicas de scraping con BeautifulSoup, se extraen detalles más profundos que no están presentes en la respuesta de la API, como descripciones detalladas, que ofrecen un mayor contexto y valor agregado al conjunto de datos.\n",
    "\n",
    "Todos los datos recopilados se organizan y almacenan en un DataFrame de pandas, lo que facilita un posterior análisis y manipulación de los datos. Este DataFrame contiene tanto los datos generales obtenidos directamente de la API como los detalles específicos extraídos de las páginas web de cada proyecto."
   ]
  },
  {
   "cell_type": "code",
   "execution_count": null,
   "metadata": {},
   "outputs": [],
   "source": [
    "# URL base del sitio web para completar las URLs relativas\n",
    "url_base = \"https://www.constructorabolivar.com\"\n",
    "\n",
    "# Función para obtener información detallada de cada proyecto\n",
    "def obtener_info_proyecto(url_proyecto):\n",
    "    try:\n",
    "        respuesta = requests.get(url_proyecto)\n",
    "        if respuesta.status_code == 200:\n",
    "            soup = BeautifulSoup(respuesta.text, 'html.parser')\n",
    "            # Ajusta el selector para obtener la descripción\n",
    "            elemento_descripcion = soup.find('div', class_='alguna-clase-para-la-descripcion')\n",
    "            descripcion = elemento_descripcion.text.strip() if elemento_descripcion else \"Descripción no encontrada\"\n",
    "            return descripcion\n",
    "        else:\n",
    "            return \"No se pudo obtener la información del proyecto\"\n",
    "    except Exception as e:\n",
    "        return f\"Error al obtener la información: {e}\"\n",
    "\n",
    "# URL de la API\n",
    "url_api = \"https://www.constructorabolivar.com/api/proyectos2/all/all/all?_format=json\"\n",
    "\n",
    "# Realizar la solicitud GET a la API\n",
    "respuesta = requests.get(url_api)\n",
    "\n",
    "# Lista para almacenar la información de cada proyecto\n",
    "proyectos_info = []\n",
    "\n",
    "if respuesta.status_code == 200:\n",
    "    proyectos = respuesta.json()\n",
    "    for proyecto in proyectos:\n",
    "        # Formar la URL completa de la vista del proyecto y obtener información adicional\n",
    "        url_proyecto = url_base + proyecto['view_node']\n",
    "        info_adicional = obtener_info_proyecto(url_proyecto)\n",
    "        \n",
    "        # Almacenar información del proyecto en la lista\n",
    "        proyectos_info.append({\n",
    "            \"ID\": proyecto['nid'],\n",
    "            \"Título\": proyecto['title'],\n",
    "            \"Departamento\": proyecto['field_departamento'],\n",
    "            \"Ciudad\": proyecto['field_ciudad'],\n",
    "            \"Precio\": proyecto['field_precio'],\n",
    "            \"Precio SMMLV\": proyecto['field_precio_smmlv'],\n",
    "            \"Sector\": proyecto['field_sector'],\n",
    "            \"Barrio\": proyecto['field_barrio'],\n",
    "            \"Estado\": proyecto['field_estados'],\n",
    "            \"Area Minima\": proyecto['field_area_minima'],\n",
    "            \"Area Privada Minima\": proyecto['field_area_privada_minima'],\n",
    "            \"Alcobas\": proyecto['field_alcobas'],\n",
    "            \"Logo URL\": proyecto['field_logo'],\n",
    "            \"Imagen Destacada URL\": proyecto['field_imagen_destacada'],\n",
    "            \"Tipo de Vivienda\": proyecto['field_tipo_de_vivienda'],\n",
    "            \"URL de Vista\": url_proyecto,\n",
    "            \"Información adicional\": info_adicional\n",
    "        })\n",
    "else:\n",
    "    print(\"Error en la solicitud: Estado\", respuesta.status_code)\n",
    "\n",
    "# Convertir la lista de proyectos en un DataFrame\n",
    "df_proyectos = pd.DataFrame(proyectos_info)\n",
    "\n",
    "# Muestra las primeras filas del DataFrame para verificar\n",
    "print(df_proyectos.head())"
   ]
  },
  {
   "cell_type": "code",
   "execution_count": 33,
   "metadata": {},
   "outputs": [
    {
     "data": {
      "text/html": [
       "<div>\n",
       "<style scoped>\n",
       "    .dataframe tbody tr th:only-of-type {\n",
       "        vertical-align: middle;\n",
       "    }\n",
       "\n",
       "    .dataframe tbody tr th {\n",
       "        vertical-align: top;\n",
       "    }\n",
       "\n",
       "    .dataframe thead th {\n",
       "        text-align: right;\n",
       "    }\n",
       "</style>\n",
       "<table border=\"1\" class=\"dataframe\">\n",
       "  <thead>\n",
       "    <tr style=\"text-align: right;\">\n",
       "      <th></th>\n",
       "      <th>ID</th>\n",
       "      <th>Título</th>\n",
       "      <th>Departamento</th>\n",
       "      <th>Ciudad</th>\n",
       "      <th>Precio</th>\n",
       "      <th>Precio SMMLV</th>\n",
       "      <th>Sector</th>\n",
       "      <th>Barrio</th>\n",
       "      <th>Estado</th>\n",
       "      <th>Area Minima</th>\n",
       "      <th>Area Privada Minima</th>\n",
       "      <th>Alcobas</th>\n",
       "      <th>Logo URL</th>\n",
       "      <th>Imagen Destacada URL</th>\n",
       "      <th>Tipo de Vivienda</th>\n",
       "      <th>URL de Vista</th>\n",
       "      <th>Información adicional</th>\n",
       "    </tr>\n",
       "  </thead>\n",
       "  <tbody>\n",
       "    <tr>\n",
       "      <th>0</th>\n",
       "      <td>1727</td>\n",
       "      <td>Loto - Vivero Parque Residencial</td>\n",
       "      <td>Valle del Cauca</td>\n",
       "      <td>Cali y sus alrededores</td>\n",
       "      <td>577857946</td>\n",
       "      <td></td>\n",
       "      <td>Cerca a Valle del Lili</td>\n",
       "      <td>Valle del Lili</td>\n",
       "      <td>Lanzamiento</td>\n",
       "      <td>101,73</td>\n",
       "      <td>93,42</td>\n",
       "      <td>2</td>\n",
       "      <td>https://cbolivarstoragedev.blob.core.windows.n...</td>\n",
       "      <td>https://cbolivarstoragedev.blob.core.windows.n...</td>\n",
       "      <td>Apartamentos</td>\n",
       "      <td>https://www.constructorabolivar.com/proyectos-...</td>\n",
       "      <td>No se pudo obtener la información del proyecto</td>\n",
       "    </tr>\n",
       "    <tr>\n",
       "      <th>1</th>\n",
       "      <td>1760</td>\n",
       "      <td>Almendros del Edén</td>\n",
       "      <td>Cundinamarca</td>\n",
       "      <td>Bogotá y sus alrededores</td>\n",
       "      <td>260000000</td>\n",
       "      <td></td>\n",
       "      <td>Funza</td>\n",
       "      <td>Funza</td>\n",
       "      <td>Lanzamiento</td>\n",
       "      <td>43</td>\n",
       "      <td>43</td>\n",
       "      <td>2</td>\n",
       "      <td>https://cbolivarstoragedev.blob.core.windows.n...</td>\n",
       "      <td>https://cbolivarstoragedev.blob.core.windows.n...</td>\n",
       "      <td>Apartamentos</td>\n",
       "      <td>https://www.constructorabolivar.com/proyectos-...</td>\n",
       "      <td>Descripción no encontrada</td>\n",
       "    </tr>\n",
       "    <tr>\n",
       "      <th>2</th>\n",
       "      <td>1791</td>\n",
       "      <td>Puerto Celesta - Ciudad del Puerto</td>\n",
       "      <td>Atlántico</td>\n",
       "      <td>Soledad - Atlántico</td>\n",
       "      <td>126400000</td>\n",
       "      <td>90 SMMLV</td>\n",
       "      <td>Calle 30</td>\n",
       "      <td>Ciudad del Puerto</td>\n",
       "      <td>Lanzamiento</td>\n",
       "      <td>41</td>\n",
       "      <td>37</td>\n",
       "      <td>2</td>\n",
       "      <td>https://cbolivarstoragedev.blob.core.windows.n...</td>\n",
       "      <td>https://cbolivarstoragedev.blob.core.windows.n...</td>\n",
       "      <td>Apartamentos</td>\n",
       "      <td>https://www.constructorabolivar.com/proyectos-...</td>\n",
       "      <td>Descripción no encontrada</td>\n",
       "    </tr>\n",
       "    <tr>\n",
       "      <th>3</th>\n",
       "      <td>1709</td>\n",
       "      <td>Arroyuelo - Entrerios Ciudad Campestre</td>\n",
       "      <td>Valle del Cauca</td>\n",
       "      <td>Cali y sus alrededores</td>\n",
       "      <td>126360000</td>\n",
       "      <td>90 SMMLV</td>\n",
       "      <td>El Cerrito</td>\n",
       "      <td></td>\n",
       "      <td>Lanzamiento</td>\n",
       "      <td>30</td>\n",
       "      <td>27.45</td>\n",
       "      <td></td>\n",
       "      <td>https://cbolivarstoragedev.blob.core.windows.n...</td>\n",
       "      <td>https://cbolivarstoragedev.blob.core.windows.n...</td>\n",
       "      <td>Casas</td>\n",
       "      <td>https://www.constructorabolivar.com/proyectos-...</td>\n",
       "      <td>Descripción no encontrada</td>\n",
       "    </tr>\n",
       "    <tr>\n",
       "      <th>4</th>\n",
       "      <td>1766</td>\n",
       "      <td>Luciérnagas - Ciudad del Valle</td>\n",
       "      <td>Valle del Cauca</td>\n",
       "      <td>Cali y sus alrededores</td>\n",
       "      <td>223236000</td>\n",
       "      <td>150 SMMLV</td>\n",
       "      <td>Ciudad del Valle</td>\n",
       "      <td>Ciudad del Valle</td>\n",
       "      <td>Lanzamiento</td>\n",
       "      <td>45.58</td>\n",
       "      <td>40.85</td>\n",
       "      <td>1</td>\n",
       "      <td>https://cbolivarstoragedev.blob.core.windows.n...</td>\n",
       "      <td>https://cbolivarstoragedev.blob.core.windows.n...</td>\n",
       "      <td>Casas</td>\n",
       "      <td>https://www.constructorabolivar.com/proyectos-...</td>\n",
       "      <td>Descripción no encontrada</td>\n",
       "    </tr>\n",
       "  </tbody>\n",
       "</table>\n",
       "</div>"
      ],
      "text/plain": [
       "     ID                                  Título     Departamento  \\\n",
       "0  1727        Loto - Vivero Parque Residencial  Valle del Cauca   \n",
       "1  1760                      Almendros del Edén     Cundinamarca   \n",
       "2  1791      Puerto Celesta - Ciudad del Puerto        Atlántico   \n",
       "3  1709  Arroyuelo - Entrerios Ciudad Campestre  Valle del Cauca   \n",
       "4  1766          Luciérnagas - Ciudad del Valle  Valle del Cauca   \n",
       "\n",
       "                     Ciudad     Precio Precio SMMLV                  Sector  \\\n",
       "0    Cali y sus alrededores  577857946               Cerca a Valle del Lili   \n",
       "1  Bogotá y sus alrededores  260000000                                Funza   \n",
       "2       Soledad - Atlántico  126400000     90 SMMLV                Calle 30   \n",
       "3    Cali y sus alrededores  126360000     90 SMMLV              El Cerrito   \n",
       "4    Cali y sus alrededores  223236000    150 SMMLV        Ciudad del Valle   \n",
       "\n",
       "              Barrio       Estado Area Minima Area Privada Minima Alcobas  \\\n",
       "0     Valle del Lili  Lanzamiento      101,73               93,42       2   \n",
       "1              Funza  Lanzamiento          43                  43       2   \n",
       "2  Ciudad del Puerto  Lanzamiento          41                  37       2   \n",
       "3                     Lanzamiento          30               27.45           \n",
       "4   Ciudad del Valle  Lanzamiento       45.58               40.85       1   \n",
       "\n",
       "                                            Logo URL  \\\n",
       "0  https://cbolivarstoragedev.blob.core.windows.n...   \n",
       "1  https://cbolivarstoragedev.blob.core.windows.n...   \n",
       "2  https://cbolivarstoragedev.blob.core.windows.n...   \n",
       "3  https://cbolivarstoragedev.blob.core.windows.n...   \n",
       "4  https://cbolivarstoragedev.blob.core.windows.n...   \n",
       "\n",
       "                                Imagen Destacada URL Tipo de Vivienda  \\\n",
       "0  https://cbolivarstoragedev.blob.core.windows.n...     Apartamentos   \n",
       "1  https://cbolivarstoragedev.blob.core.windows.n...     Apartamentos   \n",
       "2  https://cbolivarstoragedev.blob.core.windows.n...     Apartamentos   \n",
       "3  https://cbolivarstoragedev.blob.core.windows.n...            Casas   \n",
       "4  https://cbolivarstoragedev.blob.core.windows.n...            Casas   \n",
       "\n",
       "                                        URL de Vista  \\\n",
       "0  https://www.constructorabolivar.com/proyectos-...   \n",
       "1  https://www.constructorabolivar.com/proyectos-...   \n",
       "2  https://www.constructorabolivar.com/proyectos-...   \n",
       "3  https://www.constructorabolivar.com/proyectos-...   \n",
       "4  https://www.constructorabolivar.com/proyectos-...   \n",
       "\n",
       "                            Información adicional  \n",
       "0  No se pudo obtener la información del proyecto  \n",
       "1                       Descripción no encontrada  \n",
       "2                       Descripción no encontrada  \n",
       "3                       Descripción no encontrada  \n",
       "4                       Descripción no encontrada  "
      ]
     },
     "execution_count": 33,
     "metadata": {},
     "output_type": "execute_result"
    }
   ],
   "source": [
    "# Mostrar las primeras 5 filas del DataFrame\n",
    "df_proyectos.head(5)"
   ]
  },
  {
   "cell_type": "code",
   "execution_count": null,
   "metadata": {},
   "outputs": [],
   "source": []
  },
  {
   "cell_type": "markdown",
   "metadata": {},
   "source": [
    "## Objetivo 2\n",
    "\n",
    "Realizar el mismo proceso del objetivo anterior, pero esta ves contemplando otra constructora"
   ]
  },
  {
   "cell_type": "code",
   "execution_count": null,
   "metadata": {},
   "outputs": [],
   "source": [
    "\n",
    "# URL de la página web\n",
    "url = \"https://marval.com.co/proyectos/\"\n",
    "\n",
    "# Realizar la solicitud GET con la verificación de SSL desactivada\n",
    "respuesta = requests.get(url, verify=False)\n",
    "\n",
    "# Verificar el estado de la solicitud\n",
    "if respuesta.status_code == 200:\n",
    "    # Parsear el contenido HTML\n",
    "    soup = BeautifulSoup(respuesta.text, 'html.parser')\n",
    "    # Buscar todos los elementos 'a' dentro de 'h2' con clase 'item-title', que están dentro de los contenedores 'div' con clase 'item-body' y 'flex-grow-1'\n",
    "    titulos = soup.select('div.item-body.flex-grow-1 h2.item-title a')\n",
    "    # Iterar sobre cada título y imprimir el texto\n",
    "    for titulo in titulos:\n",
    "        print(titulo.text.strip())\n",
    "else:\n",
    "    print(\"Error en la solicitud: Estado\", respuesta.status_code)"
   ]
  },
  {
   "cell_type": "code",
   "execution_count": null,
   "metadata": {},
   "outputs": [],
   "source": [
    "# URL de la solicitud AJAX\n",
    "url = \"https://marval.com.co/wp-admin/admin-ajax.php\"\n",
    "\n",
    "# Parámetros de la solicitud identificados\n",
    "data = {\n",
    "    'action': 'houzez_loadmore_properties',\n",
    "    'prop_limit': 9,  # Límite de propiedades por carga\n",
    "    'paged': 2,  # Número de página o conjunto de resultados a cargar\n",
    "    'card_version': 'item-v2',  # Versión de la tarjeta de propiedad\n",
    "    'type': 'proyectos',  # Tipo de propiedades a cargar\n",
    "    'status': 'en-construccion,en-entregas,lanzamiento,sobre-planos,ultimas-unidades',  # Estado de las propiedades\n",
    "    'state': '',  # Estado/Departamento (vacío significa sin filtro por estado)\n",
    "    'city': '',  # Ciudad (vacío significa sin filtro por ciudad)\n",
    "    'country': '',  # País (vacío significa sin filtro por país)\n",
    "    'area': '',  # Área (vacío significa sin filtro por área)\n",
    "    'label': '',  # Etiqueta (vacío significa sin filtro por etiqueta)\n",
    "    'user_role': '',  # Rol del usuario (vacío significa sin filtro por rol)\n",
    "    'featured_prop': '',  # Propiedades destacadas (vacío significa sin filtro por destacados)\n",
    "    'sort_by': 'd_date',  # Ordenar por fecha descendente\n",
    "    'offset': '',  # Desplazamiento (vacío significa sin desplazamiento específico)\n",
    "}\n",
    "\n",
    "# Realizar la solicitud POST\n",
    "respuesta = requests.post(url, data=data , verify=False)\n",
    "\n",
    "if respuesta.status_code == 200:\n",
    "    # Procesar la respuesta\n",
    "    soup = BeautifulSoup(respuesta.content, 'html.parser')\n",
    "    # Aquí iría tu código para extraer y procesar la información deseada del contenido HTML\n",
    "    \n",
    "    # Ejemplo: imprimir los títulos de los proyectos cargados\n",
    "    proyectos = soup.find_all('h2', class_='item-title')\n",
    "    for proyecto in proyectos:\n",
    "        titulo = proyecto.find('a').text.strip()\n",
    "        print(titulo)\n",
    "else:\n",
    "    print(f\"Error al realizar la solicitud: Estado {respuesta.status_code}\")"
   ]
  },
  {
   "cell_type": "code",
   "execution_count": null,
   "metadata": {},
   "outputs": [],
   "source": [
    "def cargar_proyectos(pagina):\n",
    "    url = \"https://marval.com.co/wp-admin/admin-ajax.php\"\n",
    "    data = {\n",
    "        'action': 'houzez_loadmore_properties',\n",
    "        'prop_limit': 9,\n",
    "        'paged': pagina,\n",
    "        'card_version': 'item-v2',\n",
    "        'type': 'proyectos',\n",
    "        'status': 'en-construccion,en-entregas,lanzamiento,sobre-planos,ultimas-unidades',\n",
    "        'sort_by': 'd_date',\n",
    "    }\n",
    "    respuesta = requests.post(url, data=data, verify=False)\n",
    "    if respuesta.status_code == 200:\n",
    "        return respuesta.content\n",
    "    else:\n",
    "        return None\n",
    "\n",
    "# Iniciar en la página 1\n",
    "pagina = 1\n",
    "\n",
    "while True:\n",
    "    respuesta_html = cargar_proyectos(pagina)\n",
    "    if respuesta_html:\n",
    "        soup = BeautifulSoup(respuesta_html, 'html.parser')\n",
    "        proyectos = soup.find_all('div', class_='item-body flex-grow-1')\n",
    "        if not proyectos:\n",
    "            print(\"No se encontraron más proyectos.\")\n",
    "            break\n",
    "\n",
    "        for proyecto in proyectos:\n",
    "            # Extraer el título/nombre del proyecto\n",
    "            titulo = proyecto.find('h2', class_='item-title').get_text(strip=True)\n",
    "            \n",
    "            # Extraer el estado y la etiqueta\n",
    "            estado_etiquetas = proyecto.find_all('a', class_='label-status') + proyecto.find_all('a', class_='hz-label')\n",
    "            estado = [etiqueta.get_text(strip=True) for etiqueta in estado_etiquetas]\n",
    "\n",
    "            # Extraer el precio\n",
    "            precio = proyecto.find('li', class_='item-price').get_text(strip=True) if proyecto.find('li', class_='item-price') else 'No disponible'\n",
    "\n",
    "            # Extraer los metros cuadrados\n",
    "            metros_cuadrados = proyecto.find('li', class_='h-area').get_text(strip=True) if proyecto.find('li', class_='h-area') else 'No disponible'\n",
    "\n",
    "            print(f\"Nombre: {titulo}\")\n",
    "            print(f\"Estado/Etiqueta: {', '.join(estado)}\")\n",
    "            print(f\"Precio: {precio}\")\n",
    "            print(f\"Metros Cuadrados: {metros_cuadrados}\")\n",
    "            print(\"----------\")\n",
    "\n",
    "        # Cargar la siguiente página\n",
    "        pagina += 1\n",
    "    else:\n",
    "        print(f\"Error al cargar la página {pagina}\")\n",
    "        break"
   ]
  }
 ],
 "metadata": {
  "application/vnd.databricks.v1+notebook": {
   "dashboards": [],
   "language": "python",
   "notebookMetadata": {
    "pythonIndentUnit": 4
   },
   "notebookName": "Scrapper",
   "widgets": {}
  },
  "kernelspec": {
   "display_name": "Python 3",
   "language": "python",
   "name": "python3"
  },
  "language_info": {
   "codemirror_mode": {
    "name": "ipython",
    "version": 3
   },
   "file_extension": ".py",
   "mimetype": "text/x-python",
   "name": "python",
   "nbconvert_exporter": "python",
   "pygments_lexer": "ipython3",
   "version": "3.12.0"
  }
 },
 "nbformat": 4,
 "nbformat_minor": 0
}
